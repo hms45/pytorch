{
 "cells": [
  {
   "cell_type": "markdown",
   "id": "b7f8f02c",
   "metadata": {},
   "source": [
    "# 경사하강법(SGD)"
   ]
  },
  {
   "cell_type": "markdown",
   "id": "6bab0488",
   "metadata": {},
   "source": [
    "## 단순 선형 회귀"
   ]
  },
  {
   "cell_type": "code",
   "execution_count": 66,
   "id": "01842157",
   "metadata": {},
   "outputs": [],
   "source": [
    "import torch\n",
    "import torch.nn as nn\n",
    "import torch.nn.functional as F\n",
    "import torch.optim as optim"
   ]
  },
  {
   "cell_type": "code",
   "execution_count": 67,
   "id": "ca8024b0",
   "metadata": {},
   "outputs": [
    {
     "name": "stdout",
     "output_type": "stream",
     "text": [
      "X_train shape : torch.Size([6, 1])\n",
      "y_train shape : torch.Size([6, 1])\n"
     ]
    }
   ],
   "source": [
    "X_train = torch.FloatTensor([[1], [2], [3], [4], [5], [6]])\n",
    "y_train = torch.FloatTensor([[2], [15], [16], [25], [44], [60]])\n",
    "\n",
    "print('X_train shape :', X_train.shape)\n",
    "print('y_train shape :', y_train.shape)"
   ]
  },
  {
   "cell_type": "code",
   "execution_count": 68,
   "id": "c4cafaa0",
   "metadata": {},
   "outputs": [],
   "source": [
    "W = torch.zeros(1, requires_grad=True)\n",
    "b = torch.zeros(1, requires_grad=True)"
   ]
  },
  {
   "cell_type": "code",
   "execution_count": 69,
   "id": "2854b436",
   "metadata": {},
   "outputs": [
    {
     "name": "stdout",
     "output_type": "stream",
     "text": [
      "Epoch    0/2000 W: 2.533, b: 0.540 Cost: 1107.666626\n",
      "Epoch  100/2000 W: 8.858, b: -2.308 Cost: 40.650959\n",
      "Epoch  200/2000 W: 9.523, b: -5.153 Cost: 31.969984\n",
      "Epoch  300/2000 W: 9.984, b: -7.128 Cost: 27.791662\n",
      "Epoch  400/2000 W: 10.304, b: -8.497 Cost: 25.780533\n",
      "Epoch  500/2000 W: 10.526, b: -9.447 Cost: 24.812555\n",
      "Epoch  600/2000 W: 10.680, b: -10.107 Cost: 24.346640\n",
      "Epoch  700/2000 W: 10.787, b: -10.564 Cost: 24.122391\n",
      "Epoch  800/2000 W: 10.861, b: -10.881 Cost: 24.014444\n",
      "Epoch  900/2000 W: 10.912, b: -11.101 Cost: 23.962496\n",
      "Epoch 1000/2000 W: 10.948, b: -11.254 Cost: 23.937485\n",
      "Epoch 1100/2000 W: 10.973, b: -11.360 Cost: 23.925455\n",
      "Epoch 1200/2000 W: 10.990, b: -11.433 Cost: 23.919664\n",
      "Epoch 1300/2000 W: 11.002, b: -11.484 Cost: 23.916878\n",
      "Epoch 1400/2000 W: 11.010, b: -11.520 Cost: 23.915529\n",
      "Epoch 1500/2000 W: 11.016, b: -11.544 Cost: 23.914886\n",
      "Epoch 1600/2000 W: 11.020, b: -11.561 Cost: 23.914574\n",
      "Epoch 1700/2000 W: 11.022, b: -11.573 Cost: 23.914421\n",
      "Epoch 1800/2000 W: 11.024, b: -11.581 Cost: 23.914352\n",
      "Epoch 1900/2000 W: 11.026, b: -11.587 Cost: 23.914316\n",
      "Epoch 2000/2000 W: 11.026, b: -11.591 Cost: 23.914299\n"
     ]
    }
   ],
   "source": [
    "optimizer = optim.SGD([W, b], lr = 0.01) # lr : learning rate (학습률)\n",
    "\n",
    "epochs = 2000\n",
    "\n",
    "for epoch in range(epochs + 1):\n",
    "    \n",
    "    H = X_train * W + b   # H(x) 가설\n",
    "    cost = torch.mean((H - y_train) ** 2)   # MSE\n",
    "    \n",
    "    optimizer.zero_grad()\n",
    "    cost.backward()  # 역전파 시작 - > 경사 계산\n",
    "    optimizer.step()\n",
    "    \n",
    "    if epoch % 100 == 0:\n",
    "        print('Epoch {:4d}/{} W: {:.3f}, b: {:.3f} Cost: {:.6f}'.format(\n",
    "                epoch, epochs, W.item(), b.item(), cost.item()))\n",
    "    "
   ]
  },
  {
   "cell_type": "markdown",
   "id": "ed06c9c1",
   "metadata": {},
   "source": [
    "## 다중 선형 회귀"
   ]
  },
  {
   "cell_type": "code",
   "execution_count": 70,
   "id": "e4d7f942",
   "metadata": {},
   "outputs": [],
   "source": [
    "x1 = torch.FloatTensor([[2], [4], [6], [8]])\n",
    "x2 = torch.FloatTensor([[0], [4], [2], [3]])\n",
    "x3 = torch.FloatTensor([[1], [3], [5], [7]])\n",
    "y = torch.FloatTensor([[81],[93],[91],[97]])"
   ]
  },
  {
   "cell_type": "code",
   "execution_count": 71,
   "id": "093c9d6e",
   "metadata": {},
   "outputs": [],
   "source": [
    "w1 = torch.zeros(1, requires_grad=True)\n",
    "w2 = torch.zeros(1, requires_grad=True)\n",
    "w3 = torch.zeros(1, requires_grad=True)\n",
    "b = torch.zeros(1, requires_grad=True)"
   ]
  },
  {
   "cell_type": "code",
   "execution_count": 72,
   "id": "81703438",
   "metadata": {},
   "outputs": [
    {
     "name": "stdout",
     "output_type": "stream",
     "text": [
      "Epoch    0/2000 W1: 9.280, W2: 4.225, W3: 7.470, b: 1.810\n",
      "Epoch  100/2000 W1: 15.426, W2: 5.953, W3: -7.819, b: 23.246\n",
      "Epoch  200/2000 W1: 20.269, W2: 4.538, W3: -15.312, b: 35.582\n",
      "Epoch  300/2000 W1: 23.093, W2: 3.592, W3: -19.601, b: 42.695\n",
      "Epoch  400/2000 W1: 24.725, W2: 3.040, W3: -22.075, b: 46.800\n",
      "Epoch  500/2000 W1: 25.667, W2: 2.721, W3: -23.503, b: 49.170\n",
      "Epoch  600/2000 W1: 26.210, W2: 2.537, W3: -24.327, b: 50.538\n",
      "Epoch  700/2000 W1: 26.524, W2: 2.431, W3: -24.803, b: 51.327\n",
      "Epoch  800/2000 W1: 26.705, W2: 2.369, W3: -25.078, b: 51.783\n",
      "Epoch  900/2000 W1: 26.810, W2: 2.334, W3: -25.236, b: 52.046\n",
      "Epoch 1000/2000 W1: 26.870, W2: 2.314, W3: -25.327, b: 52.198\n",
      "Epoch 1100/2000 W1: 26.905, W2: 2.302, W3: -25.380, b: 52.285\n",
      "Epoch 1200/2000 W1: 26.925, W2: 2.295, W3: -25.411, b: 52.336\n",
      "Epoch 1300/2000 W1: 26.937, W2: 2.291, W3: -25.428, b: 52.365\n",
      "Epoch 1400/2000 W1: 26.943, W2: 2.289, W3: -25.438, b: 52.382\n",
      "Epoch 1500/2000 W1: 26.947, W2: 2.288, W3: -25.444, b: 52.392\n",
      "Epoch 1600/2000 W1: 26.949, W2: 2.287, W3: -25.448, b: 52.397\n",
      "Epoch 1700/2000 W1: 26.951, W2: 2.286, W3: -25.450, b: 52.400\n",
      "Epoch 1800/2000 W1: 26.951, W2: 2.286, W3: -25.451, b: 52.402\n",
      "Epoch 1900/2000 W1: 26.952, W2: 2.286, W3: -25.451, b: 52.403\n"
     ]
    }
   ],
   "source": [
    "lr=0.01\n",
    "epochs = 2000\n",
    "\n",
    "for epoch in range(epochs):\n",
    "    y_hat = x1 * w1 + x2 * w2 + x3 * w3 + b\n",
    "    error = y - y_hat\n",
    "    \n",
    "    w1_diff = -(2/len(x1)) * sum(x1 * (error))\n",
    "    w2_diff = -(2/len(x2)) * sum(x2 * (error))\n",
    "    w3_diff = -(2/len(x3)) * sum(x3 * (error))\n",
    "    b_diff = -(2/len(x1)) * sum(error)\n",
    "    \n",
    "    w1 = w1 - lr * w1_diff\n",
    "    w2 = w2 - lr * w2_diff\n",
    "    w3 = w3 - lr * w3_diff    \n",
    "    b = b - lr * b_diff\n",
    "\n",
    "    if epoch % 100 == 0:\n",
    "        print('Epoch {:4d}/{} W1: {:.3f}, W2: {:.3f}, W3: {:.3f}, b: {:.3f}'.format(\n",
    "                epoch, epochs, w1.item(), w2.item(), w3.item(), b.item()))"
   ]
  },
  {
   "cell_type": "markdown",
   "id": "e901c331",
   "metadata": {},
   "source": [
    "## 다중 회귀 분석 에서 [COST(W1,W2,W3,B)] ` 공식 증명"
   ]
  }
 ],
 "metadata": {
  "kernelspec": {
   "display_name": "Python 3 (ipykernel)",
   "language": "python",
   "name": "python3"
  },
  "language_info": {
   "codemirror_mode": {
    "name": "ipython",
    "version": 3
   },
   "file_extension": ".py",
   "mimetype": "text/x-python",
   "name": "python",
   "nbconvert_exporter": "python",
   "pygments_lexer": "ipython3",
   "version": "3.9.7"
  }
 },
 "nbformat": 4,
 "nbformat_minor": 5
}
