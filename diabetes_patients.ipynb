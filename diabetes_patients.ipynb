{
 "cells": [
  {
   "cell_type": "markdown",
   "id": "957c5de6",
   "metadata": {},
   "source": [
    "## 당뇨병 환자 회귀 분석\n",
    "```\n",
    "해당 환자의 1년 후 병의 진전된 정도 예측\n",
    "```"
   ]
  },
  {
   "cell_type": "code",
   "execution_count": 20,
   "id": "8ee32a7d",
   "metadata": {
    "scrolled": true
   },
   "outputs": [
    {
     "name": "stdout",
     "output_type": "stream",
     "text": [
      ".. _diabetes_dataset:\n",
      "\n",
      "Diabetes dataset\n",
      "----------------\n",
      "\n",
      "Ten baseline variables, age, sex, body mass index, average blood\n",
      "pressure, and six blood serum measurements were obtained for each of n =\n",
      "442 diabetes patients, as well as the response of interest, a\n",
      "quantitative measure of disease progression one year after baseline.\n",
      "\n",
      "**Data Set Characteristics:**\n",
      "\n",
      "  :Number of Instances: 442\n",
      "\n",
      "  :Number of Attributes: First 10 columns are numeric predictive values\n",
      "\n",
      "  :Target: Column 11 is a quantitative measure of disease progression one year after baseline\n",
      "\n",
      "  :Attribute Information:\n",
      "      - age     age in years\n",
      "      - sex\n",
      "      - bmi     body mass index\n",
      "      - bp      average blood pressure\n",
      "      - s1      tc, total serum cholesterol\n",
      "      - s2      ldl, low-density lipoproteins\n",
      "      - s3      hdl, high-density lipoproteins\n",
      "      - s4      tch, total cholesterol / HDL\n",
      "      - s5      ltg, possibly log of serum triglycerides level\n",
      "      - s6      glu, blood sugar level\n",
      "\n",
      "Note: Each of these 10 feature variables have been mean centered and scaled by the standard deviation times the square root of `n_samples` (i.e. the sum of squares of each column totals 1).\n",
      "\n",
      "Source URL:\n",
      "https://www4.stat.ncsu.edu/~boos/var.select/diabetes.html\n",
      "\n",
      "For more information see:\n",
      "Bradley Efron, Trevor Hastie, Iain Johnstone and Robert Tibshirani (2004) \"Least Angle Regression,\" Annals of Statistics (with discussion), 407-499.\n",
      "(https://web.stanford.edu/~hastie/Papers/LARS/LeastAngle_2002.pdf)\n",
      "\n"
     ]
    }
   ],
   "source": [
    "import numpy as np\n",
    "import pandas as pd\n",
    "from sklearn.datasets import load_diabetes\n",
    "import seaborn as sns\n",
    "import torch\n",
    "\n",
    "diabetes_data = load_diabetes()\n",
    "\n",
    "print(diabetes_data.DESCR)"
   ]
  },
  {
   "cell_type": "markdown",
   "id": "fde584a8",
   "metadata": {},
   "source": [
    "### 데이터프레임화"
   ]
  },
  {
   "cell_type": "code",
   "execution_count": 21,
   "id": "018316aa",
   "metadata": {},
   "outputs": [
    {
     "data": {
      "text/plain": [
       "dict_keys(['data', 'target', 'frame', 'DESCR', 'feature_names', 'data_filename', 'target_filename', 'data_module'])"
      ]
     },
     "execution_count": 21,
     "metadata": {},
     "output_type": "execute_result"
    }
   ],
   "source": [
    "diabetes_data.keys()"
   ]
  },
  {
   "cell_type": "code",
   "execution_count": 22,
   "id": "4466405b",
   "metadata": {
    "scrolled": true
   },
   "outputs": [],
   "source": [
    "df = pd.DataFrame(diabetes_data['data'], columns=diabetes_data['feature_names'])"
   ]
  },
  {
   "cell_type": "code",
   "execution_count": 23,
   "id": "0021603d",
   "metadata": {},
   "outputs": [],
   "source": [
    "df['target'] = diabetes_data['target']"
   ]
  },
  {
   "cell_type": "code",
   "execution_count": 24,
   "id": "cb0754ee",
   "metadata": {
    "scrolled": true
   },
   "outputs": [
    {
     "data": {
      "text/html": [
       "<div>\n",
       "<style scoped>\n",
       "    .dataframe tbody tr th:only-of-type {\n",
       "        vertical-align: middle;\n",
       "    }\n",
       "\n",
       "    .dataframe tbody tr th {\n",
       "        vertical-align: top;\n",
       "    }\n",
       "\n",
       "    .dataframe thead th {\n",
       "        text-align: right;\n",
       "    }\n",
       "</style>\n",
       "<table border=\"1\" class=\"dataframe\">\n",
       "  <thead>\n",
       "    <tr style=\"text-align: right;\">\n",
       "      <th></th>\n",
       "      <th>age</th>\n",
       "      <th>sex</th>\n",
       "      <th>bmi</th>\n",
       "      <th>bp</th>\n",
       "      <th>s1</th>\n",
       "      <th>s2</th>\n",
       "      <th>s3</th>\n",
       "      <th>s4</th>\n",
       "      <th>s5</th>\n",
       "      <th>s6</th>\n",
       "      <th>target</th>\n",
       "    </tr>\n",
       "  </thead>\n",
       "  <tbody>\n",
       "    <tr>\n",
       "      <th>0</th>\n",
       "      <td>0.03808</td>\n",
       "      <td>0.05068</td>\n",
       "      <td>0.06170</td>\n",
       "      <td>0.02187</td>\n",
       "      <td>-0.04422</td>\n",
       "      <td>-0.03482</td>\n",
       "      <td>-0.04340</td>\n",
       "      <td>-0.00259</td>\n",
       "      <td>0.01991</td>\n",
       "      <td>-0.01765</td>\n",
       "      <td>151.00000</td>\n",
       "    </tr>\n",
       "    <tr>\n",
       "      <th>1</th>\n",
       "      <td>-0.00188</td>\n",
       "      <td>-0.04464</td>\n",
       "      <td>-0.05147</td>\n",
       "      <td>-0.02633</td>\n",
       "      <td>-0.00845</td>\n",
       "      <td>-0.01916</td>\n",
       "      <td>0.07441</td>\n",
       "      <td>-0.03949</td>\n",
       "      <td>-0.06833</td>\n",
       "      <td>-0.09220</td>\n",
       "      <td>75.00000</td>\n",
       "    </tr>\n",
       "    <tr>\n",
       "      <th>2</th>\n",
       "      <td>0.08530</td>\n",
       "      <td>0.05068</td>\n",
       "      <td>0.04445</td>\n",
       "      <td>-0.00567</td>\n",
       "      <td>-0.04560</td>\n",
       "      <td>-0.03419</td>\n",
       "      <td>-0.03236</td>\n",
       "      <td>-0.00259</td>\n",
       "      <td>0.00286</td>\n",
       "      <td>-0.02593</td>\n",
       "      <td>141.00000</td>\n",
       "    </tr>\n",
       "    <tr>\n",
       "      <th>3</th>\n",
       "      <td>-0.08906</td>\n",
       "      <td>-0.04464</td>\n",
       "      <td>-0.01160</td>\n",
       "      <td>-0.03666</td>\n",
       "      <td>0.01219</td>\n",
       "      <td>0.02499</td>\n",
       "      <td>-0.03604</td>\n",
       "      <td>0.03431</td>\n",
       "      <td>0.02269</td>\n",
       "      <td>-0.00936</td>\n",
       "      <td>206.00000</td>\n",
       "    </tr>\n",
       "    <tr>\n",
       "      <th>4</th>\n",
       "      <td>0.00538</td>\n",
       "      <td>-0.04464</td>\n",
       "      <td>-0.03638</td>\n",
       "      <td>0.02187</td>\n",
       "      <td>0.00393</td>\n",
       "      <td>0.01560</td>\n",
       "      <td>0.00814</td>\n",
       "      <td>-0.00259</td>\n",
       "      <td>-0.03199</td>\n",
       "      <td>-0.04664</td>\n",
       "      <td>135.00000</td>\n",
       "    </tr>\n",
       "  </tbody>\n",
       "</table>\n",
       "</div>"
      ],
      "text/plain": [
       "       age      sex      bmi       bp       s1       s2       s3       s4  \\\n",
       "0  0.03808  0.05068  0.06170  0.02187 -0.04422 -0.03482 -0.04340 -0.00259   \n",
       "1 -0.00188 -0.04464 -0.05147 -0.02633 -0.00845 -0.01916  0.07441 -0.03949   \n",
       "2  0.08530  0.05068  0.04445 -0.00567 -0.04560 -0.03419 -0.03236 -0.00259   \n",
       "3 -0.08906 -0.04464 -0.01160 -0.03666  0.01219  0.02499 -0.03604  0.03431   \n",
       "4  0.00538 -0.04464 -0.03638  0.02187  0.00393  0.01560  0.00814 -0.00259   \n",
       "\n",
       "        s5       s6    target  \n",
       "0  0.01991 -0.01765 151.00000  \n",
       "1 -0.06833 -0.09220  75.00000  \n",
       "2  0.00286 -0.02593 141.00000  \n",
       "3  0.02269 -0.00936 206.00000  \n",
       "4 -0.03199 -0.04664 135.00000  "
      ]
     },
     "execution_count": 24,
     "metadata": {},
     "output_type": "execute_result"
    }
   ],
   "source": [
    "pd.options.display.float_format = '{:.5f}'.format\n",
    "\n",
    "df.head()"
   ]
  },
  {
   "cell_type": "markdown",
   "id": "213c33b6",
   "metadata": {},
   "source": [
    "### 442개 데이터\n",
    "### 11개 칼럼\n",
    "* age : 나이 (수치)\n",
    "* sex : 성별 (범주)  \n",
    "* bmi : bmi (수치)\n",
    "* bp : 평균 혈압 (수치)\n",
    "* s1 : 전체 콜레스테롤 (수치)\n",
    "* s2 : 저밀도 지단백질, 나쁜 콜레스테롤의 일종(수치)\n",
    "* s3 : 고밀도 지단백질, 좋은 콜레스테롤의 일종(수치)\n",
    "* s4 : s1 / s3 , 작을 수록 좋음(수치)\n",
    "* s5 : 중성 지방 수치 (수치)\n",
    "* s5 < 150 : 정상, 150 < s5 < 199 : 경계, 200 > s5 : 위험\n",
    "* s6 : 혈당 (수치)\n"
   ]
  },
  {
   "cell_type": "markdown",
   "id": "44f6c888",
   "metadata": {},
   "source": [
    "## 모든 칼럼 이상치 제거"
   ]
  },
  {
   "cell_type": "code",
   "execution_count": 25,
   "id": "f5c6dd40",
   "metadata": {},
   "outputs": [],
   "source": [
    "def get_outlier(df=None, columns=None, weight=1.5):\n",
    "    quantile_25 = df[columns].quantile(0.25)\n",
    "    quantile_75 = df[columns].quantile(0.75)\n",
    "    iqr = quantile_75 - quantile_25\n",
    "    iqr_weight = iqr * weight\n",
    "    \n",
    "    lowest_value = quantile_25 - iqr_weight\n",
    "    higher_value = quantile_75 + iqr_weight\n",
    "    \n",
    "    outlier_index = df[columns][(df[columns] < lowest_value) | (df[columns] > higher_value)].index\n",
    "    outlier_index.append(outlier_index)\n",
    "    \n",
    "    return outlier_index"
   ]
  },
  {
   "cell_type": "code",
   "execution_count": 26,
   "id": "c58db072",
   "metadata": {
    "scrolled": false
   },
   "outputs": [
    {
     "data": {
      "text/plain": [
       "<Axes: >"
      ]
     },
     "execution_count": 26,
     "metadata": {},
     "output_type": "execute_result"
    },
    {
     "data": {
      "image/png": "[encoded data removed]",
      "text/plain": [
       "<Figure size 640x480 with 2 Axes>"
      ]
     },
     "metadata": {},
     "output_type": "display_data"
    }
   ],
   "source": [
    "sns.heatmap(df.corr(), annot=True)"
   ]
  },
  {
   "cell_type": "markdown",
   "id": "1e655019",
   "metadata": {},
   "source": [
    "### 상관계수가 0.5 이상인 bmi, s5만 이상치 제거"
   ]
  },
  {
   "cell_type": "code",
   "execution_count": 27,
   "id": "569d6aad",
   "metadata": {
    "scrolled": true
   },
   "outputs": [
    {
     "data": {
      "text/plain": [
       "[256, 366, 367, 123, 322]"
      ]
     },
     "execution_count": 27,
     "metadata": {},
     "output_type": "execute_result"
    }
   ],
   "source": [
    "bmi_outlier_index = get_outlier(df, 'bmi')\n",
    "\n",
    "# bp_outlier_index = get_outlier(df, 'bp')\n",
    "# bp_outlier_index = bp_outlier_index.insert(0, bmi_outlier_index)\n",
    "\n",
    "\n",
    "# s1_outlier_index = get_outlier(df, 's1')\n",
    "# s1_outlier_index = s1_outlier_index.insert(0, bp_outlier_index)\n",
    "\n",
    "\n",
    "# s2_outlier_index = get_outlier(df, 's2')\n",
    "# s2_outlier_index = s2_outlier_index.insert(0, s1_outlier_index)\n",
    "\n",
    "\n",
    "# s3_outlier_index = get_outlier(df, 's3')\n",
    "# s3_outlier_index = s3_outlier_index.insert(0, s2_outlier_index)\n",
    "\n",
    "\n",
    "s4_outlier_index = get_outlier(df, 's4')\n",
    "s4_outlier_index = s4_outlier_index.insert(0, bmi_outlier_index)\n",
    "\n",
    "\n",
    "# s5_outlier_index = get_outlier(df, 's5')\n",
    "# s5_outlier_index = s5_outlier_index.insert(0, s4_outlier_index)\n",
    "\n",
    "\n",
    "# s6_outlier_index = get_outlier(df, 's6')\n",
    "# s6_outlier_index = s6_outlier_index.insert(0, s5_outlier_index)\n",
    "\n",
    "\n",
    "all_outlier_index = list(set(s4_outlier_index))\n",
    "all_outlier_index = s4_outlier_index.to_list()\n",
    "all_outlier_index"
   ]
  },
  {
   "cell_type": "code",
   "execution_count": 28,
   "id": "3657ede2",
   "metadata": {},
   "outputs": [
    {
     "data": {
      "text/html": [
       "<div>\n",
       "<style scoped>\n",
       "    .dataframe tbody tr th:only-of-type {\n",
       "        vertical-align: middle;\n",
       "    }\n",
       "\n",
       "    .dataframe tbody tr th {\n",
       "        vertical-align: top;\n",
       "    }\n",
       "\n",
       "    .dataframe thead th {\n",
       "        text-align: right;\n",
       "    }\n",
       "</style>\n",
       "<table border=\"1\" class=\"dataframe\">\n",
       "  <thead>\n",
       "    <tr style=\"text-align: right;\">\n",
       "      <th></th>\n",
       "      <th>age</th>\n",
       "      <th>sex</th>\n",
       "      <th>bmi</th>\n",
       "      <th>bp</th>\n",
       "      <th>s1</th>\n",
       "      <th>s2</th>\n",
       "      <th>s3</th>\n",
       "      <th>s4</th>\n",
       "      <th>s5</th>\n",
       "      <th>s6</th>\n",
       "      <th>target</th>\n",
       "    </tr>\n",
       "  </thead>\n",
       "  <tbody>\n",
       "    <tr>\n",
       "      <th>432</th>\n",
       "      <td>0.04171</td>\n",
       "      <td>0.05068</td>\n",
       "      <td>0.01966</td>\n",
       "      <td>0.05974</td>\n",
       "      <td>-0.00570</td>\n",
       "      <td>-0.00257</td>\n",
       "      <td>-0.02867</td>\n",
       "      <td>-0.00259</td>\n",
       "      <td>0.03119</td>\n",
       "      <td>0.00721</td>\n",
       "      <td>178.00000</td>\n",
       "    </tr>\n",
       "    <tr>\n",
       "      <th>433</th>\n",
       "      <td>-0.00551</td>\n",
       "      <td>0.05068</td>\n",
       "      <td>-0.01591</td>\n",
       "      <td>-0.06764</td>\n",
       "      <td>0.04934</td>\n",
       "      <td>0.07917</td>\n",
       "      <td>-0.02867</td>\n",
       "      <td>0.03431</td>\n",
       "      <td>-0.01811</td>\n",
       "      <td>0.04449</td>\n",
       "      <td>104.00000</td>\n",
       "    </tr>\n",
       "    <tr>\n",
       "      <th>434</th>\n",
       "      <td>0.04171</td>\n",
       "      <td>0.05068</td>\n",
       "      <td>-0.01591</td>\n",
       "      <td>0.01729</td>\n",
       "      <td>-0.03734</td>\n",
       "      <td>-0.01384</td>\n",
       "      <td>-0.02499</td>\n",
       "      <td>-0.01108</td>\n",
       "      <td>-0.04688</td>\n",
       "      <td>0.01549</td>\n",
       "      <td>132.00000</td>\n",
       "    </tr>\n",
       "    <tr>\n",
       "      <th>435</th>\n",
       "      <td>-0.04547</td>\n",
       "      <td>-0.04464</td>\n",
       "      <td>0.03906</td>\n",
       "      <td>0.00122</td>\n",
       "      <td>0.01632</td>\n",
       "      <td>0.01528</td>\n",
       "      <td>-0.02867</td>\n",
       "      <td>0.02656</td>\n",
       "      <td>0.04453</td>\n",
       "      <td>-0.02593</td>\n",
       "      <td>220.00000</td>\n",
       "    </tr>\n",
       "    <tr>\n",
       "      <th>436</th>\n",
       "      <td>-0.04547</td>\n",
       "      <td>-0.04464</td>\n",
       "      <td>-0.07303</td>\n",
       "      <td>-0.08141</td>\n",
       "      <td>0.08374</td>\n",
       "      <td>0.02781</td>\n",
       "      <td>0.17382</td>\n",
       "      <td>-0.03949</td>\n",
       "      <td>-0.00422</td>\n",
       "      <td>0.00306</td>\n",
       "      <td>57.00000</td>\n",
       "    </tr>\n",
       "  </tbody>\n",
       "</table>\n",
       "</div>"
      ],
      "text/plain": [
       "         age      sex      bmi       bp       s1       s2       s3       s4  \\\n",
       "432  0.04171  0.05068  0.01966  0.05974 -0.00570 -0.00257 -0.02867 -0.00259   \n",
       "433 -0.00551  0.05068 -0.01591 -0.06764  0.04934  0.07917 -0.02867  0.03431   \n",
       "434  0.04171  0.05068 -0.01591  0.01729 -0.03734 -0.01384 -0.02499 -0.01108   \n",
       "435 -0.04547 -0.04464  0.03906  0.00122  0.01632  0.01528 -0.02867  0.02656   \n",
       "436 -0.04547 -0.04464 -0.07303 -0.08141  0.08374  0.02781  0.17382 -0.03949   \n",
       "\n",
       "          s5       s6    target  \n",
       "432  0.03119  0.00721 178.00000  \n",
       "433 -0.01811  0.04449 104.00000  \n",
       "434 -0.04688  0.01549 132.00000  \n",
       "435  0.04453 -0.02593 220.00000  \n",
       "436 -0.00422  0.00306  57.00000  "
      ]
     },
     "execution_count": 28,
     "metadata": {},
     "output_type": "execute_result"
    }
   ],
   "source": [
    "df.drop(all_outlier_index,inplace=True)\n",
    "df = df.reset_index(drop=True)\n",
    "df.tail()"
   ]
  },
  {
   "cell_type": "code",
   "execution_count": 29,
   "id": "7e3f702f",
   "metadata": {},
   "outputs": [],
   "source": [
    "y = torch.tensor(df['target'].values.astype(np.float32))\n",
    "x = torch.tensor(df.drop('target', axis = 1).values.astype(np.float32)) "
   ]
  },
  {
   "cell_type": "code",
   "execution_count": 30,
   "id": "7b968e9d",
   "metadata": {},
   "outputs": [
    {
     "name": "stdout",
     "output_type": "stream",
     "text": [
      "torch.Size([437, 10])\n",
      "torch.Size([437])\n"
     ]
    }
   ],
   "source": [
    "print(x.shape)\n",
    "print(y.shape)"
   ]
  },
  {
   "cell_type": "code",
   "execution_count": 31,
   "id": "5d84b9f4",
   "metadata": {},
   "outputs": [],
   "source": [
    "y = torch.unsqueeze(y, 1)"
   ]
  },
  {
   "cell_type": "code",
   "execution_count": 32,
   "id": "47a4b0d1",
   "metadata": {},
   "outputs": [],
   "source": [
    "import torch\n",
    "import torch.nn as nn\n",
    "import torch.nn.functional as F\n",
    "\n",
    "class LinearRegressionModel(nn.Module):\n",
    "    def __init__(self, input_dim, output_dim):\n",
    "        super().__init__()\n",
    "        self.linear = nn.Linear(input_dim, output_dim)\n",
    "        \n",
    "    def forward(self, x):\n",
    "        return self.linear(x)\n",
    "    \n",
    "model = LinearRegressionModel(9, 1)\n",
    "model = LinearRegressionModel(x.size(1), 1)"
   ]
  },
  {
   "cell_type": "code",
   "execution_count": 33,
   "id": "3b337a8c",
   "metadata": {
    "scrolled": true
   },
   "outputs": [],
   "source": [
    "learning_rate = 0.2\n",
    "epochs = 1000\n",
    "optimizer = torch.optim.SGD(model.parameters(), lr=learning_rate)\n",
    "\n",
    "for epoch in range(epochs + 1):\n",
    "\n",
    "    pred = model(x)\n",
    "    loss = F.mse_loss(pred, y)\n",
    "\n",
    "    optimizer.zero_grad()\n",
    "    loss.backward()\n",
    "    optimizer.step()"
   ]
  },
  {
   "cell_type": "code",
   "execution_count": 34,
   "id": "950eb726",
   "metadata": {},
   "outputs": [
    {
     "name": "stdout",
     "output_type": "stream",
     "text": [
      "tensor(3064.6003, grad_fn=<MseLossBackward0>)\n",
      "Parameter containing:\n",
      "tensor([[  41.7370,  -90.3370,  350.9673,  249.4842,   15.5080,  -25.3696,\n",
      "         -187.0069,  151.9861,  308.6410,  146.6336]], requires_grad=True)\n",
      "Parameter containing:\n",
      "tensor([152.2283], requires_grad=True)\n"
     ]
    }
   ],
   "source": [
    "print(loss)\n",
    "\n",
    "for param in model.parameters():\n",
    "    print(param)"
   ]
  }
 ],
 "metadata": {
  "kernelspec": {
   "display_name": "Python 3 (ipykernel)",
   "language": "python",
   "name": "python3"
  },
  "language_info": {
   "codemirror_mode": {
    "name": "ipython",
    "version": 3
   },
   "file_extension": ".py",
   "mimetype": "text/x-python",
   "name": "python",
   "nbconvert_exporter": "python",
   "pygments_lexer": "ipython3",
   "version": "3.9.7"
  }
 },
 "nbformat": 4,
 "nbformat_minor": 5
}
