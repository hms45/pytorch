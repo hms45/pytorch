{
 "cells": [
  {
   "cell_type": "markdown",
   "id": "fcb692f5",
   "metadata": {},
   "source": [
    "- 계층(Layer)\n",
    "- 모듈(Module) : 레이어 그룹화\n",
    "- 모델(Model) : 모듈 그룹화 (한 개의 모듈이 모델 가능)"
   ]
  },
  {
   "cell_type": "markdown",
   "id": "61bc45d8",
   "metadata": {},
   "source": [
    "## 단층 퍼셉트론\n",
    "``` \n",
    "f(x) = x * W + b 가정\n",
    "\n",
    "x1 -> y1 가는 b1\n",
    "x4 -> y1 가는 b4\n",
    "\n",
    "b1 + b2 + b3 + b4 = b1 으로 고정\n",
    "(출력 y1으로 가는 b는 b1)\n",
    "\n",
    "입력4, 출력3, 가중치12\n",
    "```"
   ]
  },
  {
   "cell_type": "markdown",
   "id": "9f94544b",
   "metadata": {},
   "source": [
    "### x,b  열벡터 "
   ]
  },
  {
   "cell_type": "code",
   "execution_count": 7,
   "id": "4e43ee55",
   "metadata": {},
   "outputs": [],
   "source": [
    "import torch\n",
    "\n",
    "x = torch.FloatTensor(4) # 입력\n",
    "W = torch.FloatTensor(4,3) # 가중치\n",
    "b = torch.FloatTensor(3) # 편향"
   ]
  },
  {
   "cell_type": "markdown",
   "id": "24540bac",
   "metadata": {},
   "source": [
    "### vector * matrix\n",
    "```\n",
    "vector 전치 이후 * matrix\n",
    "```"
   ]
  },
  {
   "cell_type": "code",
   "execution_count": 8,
   "id": "a1814a97",
   "metadata": {},
   "outputs": [],
   "source": [
    "import torch\n",
    "\n",
    "def linearfunction(x,W,b):\n",
    "    y = torch.matmul(x,W) + b\n",
    "    return y"
   ]
  },
  {
   "cell_type": "markdown",
   "id": "96b4b4a5",
   "metadata": {},
   "source": [
    "```\n",
    "출력 3\n",
    "```"
   ]
  },
  {
   "cell_type": "code",
   "execution_count": 9,
   "id": "1f5cdd11",
   "metadata": {
    "scrolled": true
   },
   "outputs": [
    {
     "data": {
      "text/plain": [
       "torch.Size([3])"
      ]
     },
     "execution_count": 9,
     "metadata": {},
     "output_type": "execute_result"
    }
   ],
   "source": [
    "y = linearfunction(x, W, b)\n",
    "y.shape"
   ]
  },
  {
   "cell_type": "markdown",
   "id": "a70ff1ce",
   "metadata": {},
   "source": [
    "## Class\n",
    "```\n",
    "__init__ : 신경망 계층 초기화 선언\n",
    "\n",
    "init 메소드 안에서 값 선언해야함\n",
    "```"
   ]
  },
  {
   "cell_type": "code",
   "execution_count": 35,
   "id": "640683f4",
   "metadata": {},
   "outputs": [],
   "source": [
    "import torch\n",
    "import torch.nn as nn\n",
    "\n",
    "class NeuralNetwork(nn.Module):\n",
    "    def __init__(self):\n",
    "        super().__init__()\n",
    "        \n",
    "        self.W = torch.FloatTensor(4,3)\n",
    "        self.b = torch.FloatTensor(3)\n",
    "    \n",
    "    def forward(self, x):\n",
    "        y = torch.matmul(x, self.W) + self.b\n",
    "        \n",
    "        return y"
   ]
  },
  {
   "cell_type": "code",
   "execution_count": 36,
   "id": "76c63f53",
   "metadata": {},
   "outputs": [],
   "source": [
    "x = torch.FloatTensor(4)\n",
    "\n",
    "linear = NeuralNetwork()\n",
    "\n",
    "y = linear(x)"
   ]
  },
  {
   "cell_type": "code",
   "execution_count": 37,
   "id": "1f476ec5",
   "metadata": {
    "scrolled": false
   },
   "outputs": [
    {
     "name": "stdout",
     "output_type": "stream",
     "text": [
      "tensor([3.6893e+19, 1.7628e+00, 5.2762e+00]) torch.Size([3])\n"
     ]
    }
   ],
   "source": [
    "print(y, y.shape)"
   ]
  },
  {
   "cell_type": "markdown",
   "id": "51cd328a",
   "metadata": {},
   "source": [
    "### 입력 차원, 출력 차원 직접 입력 X"
   ]
  },
  {
   "cell_type": "code",
   "execution_count": 38,
   "id": "5eba6c7e",
   "metadata": {},
   "outputs": [],
   "source": [
    "import torch\n",
    "import torch.nn as nn\n",
    "\n",
    "class NeuralNetwork(nn.Module):\n",
    "    def __init__(self, input_dim, output_dim):\n",
    "        super().__init__()\n",
    "        \n",
    "        self.W = torch.FloatTensor(input_dim, output_dim)\n",
    "        self.b = torch.FloatTensor(output_dim)\n",
    "    \n",
    "    def forward(self, x):\n",
    "        y = torch.matmul(x, self.W) + self.b\n",
    "        \n",
    "        return y"
   ]
  },
  {
   "cell_type": "code",
   "execution_count": 42,
   "id": "4245cf5d",
   "metadata": {},
   "outputs": [],
   "source": [
    "x = torch.FloatTensor(10)\n",
    "\n",
    "linear = NeuralNetwork(10,5)\n",
    "\n",
    "y = linear(x)"
   ]
  },
  {
   "cell_type": "code",
   "execution_count": 43,
   "id": "6529351a",
   "metadata": {},
   "outputs": [
    {
     "name": "stdout",
     "output_type": "stream",
     "text": [
      "tensor([4.2890e-08, 1.0073e-11, 8.5084e-07, 8.3384e-10, 1.0720e-08]) torch.Size([5])\n"
     ]
    }
   ],
   "source": [
    "print(y, y.shape)"
   ]
  },
  {
   "cell_type": "markdown",
   "id": "d4861c91",
   "metadata": {},
   "source": [
    "## nn.Parameter 파라미터 등록\n",
    "```\n",
    "self 인자로 받은거 nn.Parameter 로 묶어주면 됨.\n",
    "```"
   ]
  },
  {
   "cell_type": "code",
   "execution_count": 44,
   "id": "0dd46436",
   "metadata": {},
   "outputs": [],
   "source": [
    "import torch\n",
    "import torch.nn as nn\n",
    "\n",
    "class NeuralNetwork(nn.Module):\n",
    "    def __init__(self, input_dim, output_dim):\n",
    "        super().__init__()\n",
    "        \n",
    "        self.W = nn.Parameter(torch.FloatTensor(input_dim, output_dim))\n",
    "        self.b = nn.Parameter(torch.FloatTensor(output_dim))\n",
    "    \n",
    "    def forward(self, x):\n",
    "        y = torch.matmul(x, self.W) + self.b\n",
    "        \n",
    "        return y"
   ]
  },
  {
   "cell_type": "code",
   "execution_count": 49,
   "id": "2f2cb1a1",
   "metadata": {},
   "outputs": [],
   "source": [
    "x = torch.FloatTensor(5)\n",
    "\n",
    "linear = NeuralNetwork(5,3)\n",
    "\n",
    "y = linear(x)"
   ]
  },
  {
   "cell_type": "code",
   "execution_count": 50,
   "id": "34fa858f",
   "metadata": {},
   "outputs": [
    {
     "name": "stdout",
     "output_type": "stream",
     "text": [
      "tensor([0.0000e+00, 0.0000e+00, 7.0065e-45], grad_fn=<AddBackward0>) torch.Size([3])\n",
      "Parameter containing:\n",
      "tensor([[1.0561e-38, 4.2246e-39, 1.0286e-38],\n",
      "        [1.0653e-38, 1.0194e-38, 8.4490e-39],\n",
      "        [1.0469e-38, 9.3674e-39, 9.9184e-39],\n",
      "        [8.7245e-39, 9.2755e-39, 8.9082e-39],\n",
      "        [9.9184e-39, 8.4490e-39, 9.6429e-39]], requires_grad=True)\n",
      "Parameter containing:\n",
      "tensor([0.0000e+00, 0.0000e+00, 7.0065e-45], requires_grad=True)\n"
     ]
    }
   ],
   "source": [
    "print(y, y.shape)\n",
    "\n",
    "for param in linear.parameters():\n",
    "    print(param)"
   ]
  },
  {
   "cell_type": "markdown",
   "id": "fa2feb1d",
   "metadata": {},
   "source": [
    "## nn.Linear"
   ]
  },
  {
   "cell_type": "code",
   "execution_count": 58,
   "id": "416da0b0",
   "metadata": {},
   "outputs": [],
   "source": [
    "import torch\n",
    "import torch.nn as nn\n",
    "\n",
    "class NeuralNetwork(nn.Module):\n",
    "    def __init__(self, input_dim, output_dim):\n",
    "        super().__init__()\n",
    "        \n",
    "        self.linear = nn.Linear(input_dim, output_dim)\n",
    "    \n",
    "    def forward(self, x):\n",
    "        y = self.linear(x)\n",
    "        \n",
    "        return y"
   ]
  },
  {
   "cell_type": "code",
   "execution_count": 60,
   "id": "67af0f0a",
   "metadata": {},
   "outputs": [],
   "source": [
    "x = torch.FloatTensor(4)\n",
    "linear = NeuralNetwork(4,3)\n",
    "y = linear(x)"
   ]
  },
  {
   "cell_type": "code",
   "execution_count": 61,
   "id": "63ff8c14",
   "metadata": {},
   "outputs": [
    {
     "name": "stdout",
     "output_type": "stream",
     "text": [
      "tensor([-0.1837, -0.4018, -0.1354], grad_fn=<AddBackward0>) torch.Size([3])\n",
      "Parameter containing:\n",
      "tensor([[ 0.1365,  0.1326, -0.3312,  0.4827],\n",
      "        [ 0.3383, -0.4727,  0.2885, -0.1034],\n",
      "        [-0.0785,  0.2394, -0.0202,  0.3565]], requires_grad=True)\n",
      "Parameter containing:\n",
      "tensor([-0.1837, -0.4018, -0.1354], requires_grad=True)\n"
     ]
    }
   ],
   "source": [
    "print(y, y.shape)\n",
    "\n",
    "for param in linear.parameters():\n",
    "    print(param)"
   ]
  }
 ],
 "metadata": {
  "kernelspec": {
   "display_name": "Python 3 (ipykernel)",
   "language": "python",
   "name": "python3"
  },
  "language_info": {
   "codemirror_mode": {
    "name": "ipython",
    "version": 3
   },
   "file_extension": ".py",
   "mimetype": "text/x-python",
   "name": "python",
   "nbconvert_exporter": "python",
   "pygments_lexer": "ipython3",
   "version": "3.9.7"
  }
 },
 "nbformat": 4,
 "nbformat_minor": 5
}
